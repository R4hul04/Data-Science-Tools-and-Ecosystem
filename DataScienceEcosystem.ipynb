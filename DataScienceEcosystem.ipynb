{
  "nbformat": 4,
  "nbformat_minor": 0,
  "metadata": {
    "colab": {
      "provenance": []
    },
    "kernelspec": {
      "name": "python3",
      "display_name": "Python 3"
    },
    "language_info": {
      "name": "python"
    }
  },
  "cells": [
    {
      "cell_type": "markdown",
      "source": [
        "# Data Science Tools and Ecosystem"
      ],
      "metadata": {
        "id": "ILCNsi6-CVdu"
      }
    },
    {
      "cell_type": "markdown",
      "source": [
        "In this notebook, Data Science Tools and Ecosystem are summarized.\n"
      ],
      "metadata": {
        "id": "tTa72qfSDJmP"
      }
    },
    {
      "cell_type": "markdown",
      "source": [
        "## Popular Data Science Languages\n",
        "\n",
        "Some of the popular languages that Data Scientists use are:\n",
        "\n",
        "1. Python\n",
        "2. R\n",
        "3. SQL\n",
        "4. Julia (emerging)\n"
      ],
      "metadata": {
        "id": "2DZ2DZ_IDg1w"
      }
    },
    {
      "cell_type": "markdown",
      "source": [
        "## Commonly Used Data Science Libraries\n",
        "\n",
        "Some of the commonly used libraries used by Data Scientists include:\n",
        "\n",
        "1. NumPy\n",
        "2. pandas\n",
        "3. Matplotlib\n",
        "4. Scikit-learn\n"
      ],
      "metadata": {
        "id": "VWQ5nOWcK11h"
      }
    },
    {
      "cell_type": "markdown",
      "source": [
        "## Data Science Tools\n",
        "\n",
        "| Data Science Tools |\n",
        "|--------------------|\n",
        "| Jupyter Notebooks  |\n",
        "| RStudio            |\n",
        "| Visual Studio Code |\n"
      ],
      "metadata": {
        "id": "TCCzFxXoNvqy"
      }
    },
    {
      "cell_type": "markdown",
      "source": [
        "### Evaluating Arithmetic Expressions in Python\n",
        "\n",
        "Below are a few examples of evaluating arithmetic expressions in Python:\n"
      ],
      "metadata": {
        "id": "VBwWC4F8P9-U"
      }
    },
    {
      "cell_type": "code",
      "source": [
        "# Arithmetic expression to multiply then add integers.\n",
        "result = (3 * 4) + 5\n",
        "result\n"
      ],
      "metadata": {
        "colab": {
          "base_uri": "https://localhost:8080/"
        },
        "id": "mDjA65_EQNub",
        "outputId": "3b517888-af3a-4969-9de7-b29948bd8de2"
      },
      "execution_count": 1,
      "outputs": [
        {
          "output_type": "execute_result",
          "data": {
            "text/plain": [
              "17"
            ]
          },
          "metadata": {},
          "execution_count": 1
        }
      ]
    },
    {
      "cell_type": "code",
      "source": [
        "# This will convert 200 minutes to hours by dividing by 60.\n",
        "minutes = 200\n",
        "hours = minutes / 60\n",
        "hours\n"
      ],
      "metadata": {
        "colab": {
          "base_uri": "https://localhost:8080/"
        },
        "id": "MYulrT1PQgd0",
        "outputId": "bdcccd3f-7eee-4154-82fb-07795e6097e4"
      },
      "execution_count": 2,
      "outputs": [
        {
          "output_type": "execute_result",
          "data": {
            "text/plain": [
              "3.3333333333333335"
            ]
          },
          "metadata": {},
          "execution_count": 2
        }
      ]
    },
    {
      "cell_type": "markdown",
      "source": [
        "## Objectives:\n",
        "\n",
        "**Objectives covered in this notebook:**\n",
        "\n",
        "- List popular languages for Data Science.\n",
        "- Introduce commonly used libraries in Data Science.\n",
        "- Provide examples of evaluating arithmetic expressions in Python.\n",
        "- Demonstrate converting minutes to hours using Python.\n"
      ],
      "metadata": {
        "id": "Rc5hKZpVQtZE"
      }
    },
    {
      "cell_type": "markdown",
      "source": [
        "## Author\n",
        "\n",
        "Rahul Parande\n"
      ],
      "metadata": {
        "id": "QjyHRnsFRAZ8"
      }
    }
  ]
}